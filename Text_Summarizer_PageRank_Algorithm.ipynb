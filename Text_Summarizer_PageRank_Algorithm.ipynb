{
  "nbformat": 4,
  "nbformat_minor": 0,
  "metadata": {
    "colab": {
      "provenance": []
    },
    "kernelspec": {
      "name": "python3",
      "display_name": "Python 3"
    },
    "language_info": {
      "name": "python"
    },
    "accelerator": "TPU",
    "gpuClass": "standard"
  },
  "cells": [
    {
      "cell_type": "code",
      "execution_count": 1,
      "metadata": {
        "colab": {
          "base_uri": "https://localhost:8080/"
        },
        "id": "kx-xxuafmjV0",
        "outputId": "2aadd105-2d58-4a3e-f1df-0b3dd4e4128a"
      },
      "outputs": [
        {
          "output_type": "stream",
          "name": "stderr",
          "text": [
            "[nltk_data] Downloading package punkt to /root/nltk_data...\n",
            "[nltk_data]   Package punkt is already up-to-date!\n"
          ]
        }
      ],
      "source": [
        "import numpy as np\n",
        "import pandas as pd\n",
        "import nltk\n",
        "nltk.download('punkt') # one time execution\n",
        "import re"
      ]
    },
    {
      "cell_type": "code",
      "source": [
        "df = pd.read_csv(\"news.csv\",encoding = 'unicode-escape')\n",
        "df.head()"
      ],
      "metadata": {
        "colab": {
          "base_uri": "https://localhost:8080/",
          "height": 206
        },
        "id": "6i-NNSmApbbL",
        "outputId": "e9955f6f-e753-45fd-fd32-e546d14485ae"
      },
      "execution_count": 2,
      "outputs": [
        {
          "output_type": "execute_result",
          "data": {
            "text/plain": [
              "                                               title  \\\n",
              "0  BTS: RM is reminded of Bon Voyage as he travel...   \n",
              "1  RM recalls wondering if he 'made right decisio...   \n",
              "2  BTS: J-Hope and RM go bonkers at Billie Eilish...   \n",
              "3  BTS: J-Hope proudly states he raised Jungkook,...   \n",
              "4  BTS: Jin aka Kim Seokjin takes us through the ...   \n",
              "\n",
              "                                             content          published_at  \\\n",
              "0  After reaching his hotel in the city, RM revea...  2022-07-30T07:00:00Z   \n",
              "1  RM aka Kim Namjoon was the first member to joi...  2022-12-22T15:57:55Z   \n",
              "2  Billie Eilish's concert was held in Seoul, Sou...  2022-08-16T07:00:00Z   \n",
              "3  BTS ARMY y'all would be missing the members a ...  2022-12-18T13:08:40Z   \n",
              "4  BTS member Kim Seokjin aka Jin has the capacit...  2022-11-21T08:00:00Z   \n",
              "\n",
              "   source  topic  \n",
              "0       2     13  \n",
              "1       2     13  \n",
              "2       1      7  \n",
              "3       1      7  \n",
              "4       1      8  "
            ],
            "text/html": [
              "\n",
              "  <div id=\"df-55e01b5f-6780-4ff3-a710-d1e93c4a59f3\">\n",
              "    <div class=\"colab-df-container\">\n",
              "      <div>\n",
              "<style scoped>\n",
              "    .dataframe tbody tr th:only-of-type {\n",
              "        vertical-align: middle;\n",
              "    }\n",
              "\n",
              "    .dataframe tbody tr th {\n",
              "        vertical-align: top;\n",
              "    }\n",
              "\n",
              "    .dataframe thead th {\n",
              "        text-align: right;\n",
              "    }\n",
              "</style>\n",
              "<table border=\"1\" class=\"dataframe\">\n",
              "  <thead>\n",
              "    <tr style=\"text-align: right;\">\n",
              "      <th></th>\n",
              "      <th>title</th>\n",
              "      <th>content</th>\n",
              "      <th>published_at</th>\n",
              "      <th>source</th>\n",
              "      <th>topic</th>\n",
              "    </tr>\n",
              "  </thead>\n",
              "  <tbody>\n",
              "    <tr>\n",
              "      <th>0</th>\n",
              "      <td>BTS: RM is reminded of Bon Voyage as he travel...</td>\n",
              "      <td>After reaching his hotel in the city, RM revea...</td>\n",
              "      <td>2022-07-30T07:00:00Z</td>\n",
              "      <td>2</td>\n",
              "      <td>13</td>\n",
              "    </tr>\n",
              "    <tr>\n",
              "      <th>1</th>\n",
              "      <td>RM recalls wondering if he 'made right decisio...</td>\n",
              "      <td>RM aka Kim Namjoon was the first member to joi...</td>\n",
              "      <td>2022-12-22T15:57:55Z</td>\n",
              "      <td>2</td>\n",
              "      <td>13</td>\n",
              "    </tr>\n",
              "    <tr>\n",
              "      <th>2</th>\n",
              "      <td>BTS: J-Hope and RM go bonkers at Billie Eilish...</td>\n",
              "      <td>Billie Eilish's concert was held in Seoul, Sou...</td>\n",
              "      <td>2022-08-16T07:00:00Z</td>\n",
              "      <td>1</td>\n",
              "      <td>7</td>\n",
              "    </tr>\n",
              "    <tr>\n",
              "      <th>3</th>\n",
              "      <td>BTS: J-Hope proudly states he raised Jungkook,...</td>\n",
              "      <td>BTS ARMY y'all would be missing the members a ...</td>\n",
              "      <td>2022-12-18T13:08:40Z</td>\n",
              "      <td>1</td>\n",
              "      <td>7</td>\n",
              "    </tr>\n",
              "    <tr>\n",
              "      <th>4</th>\n",
              "      <td>BTS: Jin aka Kim Seokjin takes us through the ...</td>\n",
              "      <td>BTS member Kim Seokjin aka Jin has the capacit...</td>\n",
              "      <td>2022-11-21T08:00:00Z</td>\n",
              "      <td>1</td>\n",
              "      <td>8</td>\n",
              "    </tr>\n",
              "  </tbody>\n",
              "</table>\n",
              "</div>\n",
              "      <button class=\"colab-df-convert\" onclick=\"convertToInteractive('df-55e01b5f-6780-4ff3-a710-d1e93c4a59f3')\"\n",
              "              title=\"Convert this dataframe to an interactive table.\"\n",
              "              style=\"display:none;\">\n",
              "        \n",
              "  <svg xmlns=\"http://www.w3.org/2000/svg\" height=\"24px\"viewBox=\"0 0 24 24\"\n",
              "       width=\"24px\">\n",
              "    <path d=\"M0 0h24v24H0V0z\" fill=\"none\"/>\n",
              "    <path d=\"M18.56 5.44l.94 2.06.94-2.06 2.06-.94-2.06-.94-.94-2.06-.94 2.06-2.06.94zm-11 1L8.5 8.5l.94-2.06 2.06-.94-2.06-.94L8.5 2.5l-.94 2.06-2.06.94zm10 10l.94 2.06.94-2.06 2.06-.94-2.06-.94-.94-2.06-.94 2.06-2.06.94z\"/><path d=\"M17.41 7.96l-1.37-1.37c-.4-.4-.92-.59-1.43-.59-.52 0-1.04.2-1.43.59L10.3 9.45l-7.72 7.72c-.78.78-.78 2.05 0 2.83L4 21.41c.39.39.9.59 1.41.59.51 0 1.02-.2 1.41-.59l7.78-7.78 2.81-2.81c.8-.78.8-2.07 0-2.86zM5.41 20L4 18.59l7.72-7.72 1.47 1.35L5.41 20z\"/>\n",
              "  </svg>\n",
              "      </button>\n",
              "      \n",
              "  <style>\n",
              "    .colab-df-container {\n",
              "      display:flex;\n",
              "      flex-wrap:wrap;\n",
              "      gap: 12px;\n",
              "    }\n",
              "\n",
              "    .colab-df-convert {\n",
              "      background-color: #E8F0FE;\n",
              "      border: none;\n",
              "      border-radius: 50%;\n",
              "      cursor: pointer;\n",
              "      display: none;\n",
              "      fill: #1967D2;\n",
              "      height: 32px;\n",
              "      padding: 0 0 0 0;\n",
              "      width: 32px;\n",
              "    }\n",
              "\n",
              "    .colab-df-convert:hover {\n",
              "      background-color: #E2EBFA;\n",
              "      box-shadow: 0px 1px 2px rgba(60, 64, 67, 0.3), 0px 1px 3px 1px rgba(60, 64, 67, 0.15);\n",
              "      fill: #174EA6;\n",
              "    }\n",
              "\n",
              "    [theme=dark] .colab-df-convert {\n",
              "      background-color: #3B4455;\n",
              "      fill: #D2E3FC;\n",
              "    }\n",
              "\n",
              "    [theme=dark] .colab-df-convert:hover {\n",
              "      background-color: #434B5C;\n",
              "      box-shadow: 0px 1px 3px 1px rgba(0, 0, 0, 0.15);\n",
              "      filter: drop-shadow(0px 1px 2px rgba(0, 0, 0, 0.3));\n",
              "      fill: #FFFFFF;\n",
              "    }\n",
              "  </style>\n",
              "\n",
              "      <script>\n",
              "        const buttonEl =\n",
              "          document.querySelector('#df-55e01b5f-6780-4ff3-a710-d1e93c4a59f3 button.colab-df-convert');\n",
              "        buttonEl.style.display =\n",
              "          google.colab.kernel.accessAllowed ? 'block' : 'none';\n",
              "\n",
              "        async function convertToInteractive(key) {\n",
              "          const element = document.querySelector('#df-55e01b5f-6780-4ff3-a710-d1e93c4a59f3');\n",
              "          const dataTable =\n",
              "            await google.colab.kernel.invokeFunction('convertToInteractive',\n",
              "                                                     [key], {});\n",
              "          if (!dataTable) return;\n",
              "\n",
              "          const docLinkHtml = 'Like what you see? Visit the ' +\n",
              "            '<a target=\"_blank\" href=https://colab.research.google.com/notebooks/data_table.ipynb>data table notebook</a>'\n",
              "            + ' to learn more about interactive tables.';\n",
              "          element.innerHTML = '';\n",
              "          dataTable['output_type'] = 'display_data';\n",
              "          await google.colab.output.renderOutput(dataTable, element);\n",
              "          const docLink = document.createElement('div');\n",
              "          docLink.innerHTML = docLinkHtml;\n",
              "          element.appendChild(docLink);\n",
              "        }\n",
              "      </script>\n",
              "    </div>\n",
              "  </div>\n",
              "  "
            ]
          },
          "metadata": {},
          "execution_count": 2
        }
      ]
    },
    {
      "cell_type": "code",
      "source": [
        "text = df['content'][0]\n",
        "text"
      ],
      "metadata": {
        "colab": {
          "base_uri": "https://localhost:8080/",
          "height": 139
        },
        "id": "WYdbD3ZVpemv",
        "outputId": "9814660d-2851-41b9-be11-6b5f2a8f1f9d"
      },
      "execution_count": 3,
      "outputs": [
        {
          "output_type": "execute_result",
          "data": {
            "text/plain": [
              "'After reaching his hotel in the city, RM revealed that his stay would be for four days and added that he would step out for dinner. As he sat at a roadside open-air restaurant, RM feasted on beer, burgers and fries. He said, \"I\\'m starving right now. I\\'m out to grab some food. It\\'s much quieter than I expected and feels like a rural town. I like the familiar atmosphere.\" RM attended Art Basel and explained on camera the details of the art fair. He also gave a glimpse as he had noodles and beer which was followed by soup noodles and wrap. Showing the pattern of a ping pong table, RM said, \"The table looks like our (BTS) symbol.\" He also spoke about the art pieces as he viewed them. After that, RM took a tram to visit the Foundation Beyeler, a museum. He later took a walk through the city. On his third day, RM visited the Kunstmuseum Basel, the Vitra Design Museum and the gallery. As he walked around, RM showed a chair to his fans and said, \"I have breaking news for you guys. Coldplay\\'s Chris Martin made a chair and it\\'s displayed in the Vitra Design Museum. If you see this Chris, give me a call. You\\'re amazing.\" RM next visited Lucerne and hiked to Mount Rigi. Recalling his previous visit to Lucerne, RM added, \"I remember the day of crossing that bridge and buying souvenirs.\" He was also reminded of Bon Voyage, a reality show featuring BTS members RM, Jin, Suga, J-Hope, Jimin, V and Jungkook. Speaking to the camera, RM said, \"I rode the SSB train to Lucerne, rode a boat, rode the mountain train, walked down the track road, rode the cable cars, and now I\\'m on a boat planning to go ride the SSB again.\" RM\\'s travel in Switzerland ended with a visit to the Museum Tinguely. Next, RM flew to Paris to attend the Pinault Collection and to visit Musee d\\'Orsay. He then went to Centre Georges-Pompidou and Orsay Museum. RM\\'s vlog ended with him enjoying a Korean meal and then heading back to Seoul.'"
            ],
            "application/vnd.google.colaboratory.intrinsic+json": {
              "type": "string"
            }
          },
          "metadata": {},
          "execution_count": 3
        }
      ]
    },
    {
      "cell_type": "code",
      "source": [
        "from nltk.tokenize import sent_tokenize\n",
        "sentences = sent_tokenize(text)"
      ],
      "metadata": {
        "id": "V50HG42erJkP"
      },
      "execution_count": 4,
      "outputs": []
    },
    {
      "cell_type": "code",
      "source": [
        "len(sentences)"
      ],
      "metadata": {
        "colab": {
          "base_uri": "https://localhost:8080/"
        },
        "id": "wKDFhsXGnwWH",
        "outputId": "e243f195-b57e-4f92-d7a7-726400014dec"
      },
      "execution_count": 5,
      "outputs": [
        {
          "output_type": "execute_result",
          "data": {
            "text/plain": [
              "25"
            ]
          },
          "metadata": {},
          "execution_count": 5
        }
      ]
    },
    {
      "cell_type": "code",
      "source": [
        "!wget http://nlp.stanford.edu/data/glove.6B.zip\n",
        "!unzip glove*.zip"
      ],
      "metadata": {
        "colab": {
          "base_uri": "https://localhost:8080/"
        },
        "id": "Ka4StKL1pitF",
        "outputId": "8cee86c2-531d-4b08-a42a-b7dbd8f6b371"
      },
      "execution_count": 7,
      "outputs": [
        {
          "output_type": "stream",
          "name": "stdout",
          "text": [
            "--2023-01-24 14:11:45--  http://nlp.stanford.edu/data/glove.6B.zip\n",
            "Resolving nlp.stanford.edu (nlp.stanford.edu)... 171.64.67.140\n",
            "Connecting to nlp.stanford.edu (nlp.stanford.edu)|171.64.67.140|:80... connected.\n",
            "HTTP request sent, awaiting response... 302 Found\n",
            "Location: https://nlp.stanford.edu/data/glove.6B.zip [following]\n",
            "--2023-01-24 14:11:45--  https://nlp.stanford.edu/data/glove.6B.zip\n",
            "Connecting to nlp.stanford.edu (nlp.stanford.edu)|171.64.67.140|:443... connected.\n",
            "HTTP request sent, awaiting response... 301 Moved Permanently\n",
            "Location: https://downloads.cs.stanford.edu/nlp/data/glove.6B.zip [following]\n",
            "--2023-01-24 14:11:45--  https://downloads.cs.stanford.edu/nlp/data/glove.6B.zip\n",
            "Resolving downloads.cs.stanford.edu (downloads.cs.stanford.edu)... 171.64.64.22\n",
            "Connecting to downloads.cs.stanford.edu (downloads.cs.stanford.edu)|171.64.64.22|:443... connected.\n",
            "HTTP request sent, awaiting response... 200 OK\n",
            "Length: 862182613 (822M) [application/zip]\n",
            "Saving to: ‘glove.6B.zip’\n",
            "\n",
            "glove.6B.zip        100%[===================>] 822.24M  5.01MB/s    in 2m 39s  \n",
            "\n",
            "2023-01-24 14:14:24 (5.18 MB/s) - ‘glove.6B.zip’ saved [862182613/862182613]\n",
            "\n",
            "Archive:  glove.6B.zip\n",
            "  inflating: glove.6B.50d.txt        \n",
            "  inflating: glove.6B.100d.txt       \n",
            "  inflating: glove.6B.200d.txt       \n",
            "  inflating: glove.6B.300d.txt       \n"
          ]
        }
      ]
    },
    {
      "cell_type": "code",
      "source": [
        "# Extract word vectors\n",
        "word_embeddings = {}\n",
        "f = open('glove.6B.100d.txt', encoding='utf-8')\n",
        "for line in f:\n",
        "    values = line.split()\n",
        "    word = values[0]\n",
        "    coefs = np.asarray(values[1:], dtype='float32')\n",
        "    word_embeddings[word] = coefs\n",
        "f.close()"
      ],
      "metadata": {
        "id": "SzqaHHQ1pvlW"
      },
      "execution_count": 12,
      "outputs": []
    },
    {
      "cell_type": "code",
      "source": [
        "len(word_embeddings)"
      ],
      "metadata": {
        "colab": {
          "base_uri": "https://localhost:8080/"
        },
        "id": "_FibEfM-qccu",
        "outputId": "767ffc2c-2cb6-4d93-dd5b-b507ba6cb3cc"
      },
      "execution_count": 13,
      "outputs": [
        {
          "output_type": "execute_result",
          "data": {
            "text/plain": [
              "400000"
            ]
          },
          "metadata": {},
          "execution_count": 13
        }
      ]
    },
    {
      "cell_type": "code",
      "source": [
        "# remove punctuations, numbers and special characters\n",
        "clean_sentences = pd.Series(sentences).str.replace(\"[^a-zA-Z]\", \" \")\n",
        "\n",
        "# make alphabets lowercase\n",
        "clean_sentences = [s.lower() for s in clean_sentences]"
      ],
      "metadata": {
        "colab": {
          "base_uri": "https://localhost:8080/"
        },
        "id": "AM9JVqBFqfEN",
        "outputId": "fd7dd72c-6e8f-41e3-ff5b-c3b3d69909e7"
      },
      "execution_count": 6,
      "outputs": [
        {
          "output_type": "stream",
          "name": "stderr",
          "text": [
            "<ipython-input-6-57e05bf8eb2b>:2: FutureWarning: The default value of regex will change from True to False in a future version.\n",
            "  clean_sentences = pd.Series(sentences).str.replace(\"[^a-zA-Z]\", \" \")\n"
          ]
        }
      ]
    },
    {
      "cell_type": "code",
      "source": [
        "nltk.download('stopwords')"
      ],
      "metadata": {
        "colab": {
          "base_uri": "https://localhost:8080/"
        },
        "id": "tea8mNEorAgW",
        "outputId": "73d4ff67-5315-4b0c-cea1-45c81f3758d6"
      },
      "execution_count": 7,
      "outputs": [
        {
          "output_type": "stream",
          "name": "stderr",
          "text": [
            "[nltk_data] Downloading package stopwords to /root/nltk_data...\n",
            "[nltk_data]   Package stopwords is already up-to-date!\n"
          ]
        },
        {
          "output_type": "execute_result",
          "data": {
            "text/plain": [
              "True"
            ]
          },
          "metadata": {},
          "execution_count": 7
        }
      ]
    },
    {
      "cell_type": "code",
      "source": [
        "from nltk.corpus import stopwords\n",
        "stop_words = stopwords.words('english')"
      ],
      "metadata": {
        "id": "o23KT6WwreEc"
      },
      "execution_count": 8,
      "outputs": []
    },
    {
      "cell_type": "code",
      "source": [
        "# function to remove stopwords\n",
        "def remove_stopwords(sen):\n",
        "    sen_new = \" \".join([i for i in sen if i not in stop_words])\n",
        "    return sen_new"
      ],
      "metadata": {
        "id": "JQpfi6_rrhpb"
      },
      "execution_count": 9,
      "outputs": []
    },
    {
      "cell_type": "code",
      "source": [
        "# remove stopwords from the sentences\n",
        "clean_sentences = [remove_stopwords(r.split()) for r in clean_sentences]"
      ],
      "metadata": {
        "id": "bQncLQVTrjXT"
      },
      "execution_count": 10,
      "outputs": []
    },
    {
      "cell_type": "code",
      "source": [
        "\n",
        "sentence_vectors = []\n",
        "for i in clean_sentences:\n",
        "  if len(i) != 0:\n",
        "    v = sum([word_embeddings.get(w, np.zeros((100,))) for w in i.split()])/(len(i.split())+0.001)\n",
        "  else:\n",
        "    v = np.zeros((100,))\n",
        "  sentence_vectors.append(v)"
      ],
      "metadata": {
        "id": "bvALUMNerlTQ"
      },
      "execution_count": 14,
      "outputs": []
    },
    {
      "cell_type": "code",
      "source": [
        "len(sentence_vectors)"
      ],
      "metadata": {
        "colab": {
          "base_uri": "https://localhost:8080/"
        },
        "id": "zL4gDzrbmUgd",
        "outputId": "a4271c83-4354-45af-d86c-fdc7f3dd5b98"
      },
      "execution_count": 15,
      "outputs": [
        {
          "output_type": "execute_result",
          "data": {
            "text/plain": [
              "25"
            ]
          },
          "metadata": {},
          "execution_count": 15
        }
      ]
    },
    {
      "cell_type": "code",
      "source": [
        "# similarity matrix\n",
        "sim_mat = np.zeros([len(sentences), len(sentences)])\n"
      ],
      "metadata": {
        "id": "NHQ5FEcgruSZ"
      },
      "execution_count": 16,
      "outputs": []
    },
    {
      "cell_type": "code",
      "source": [
        "from sklearn.metrics.pairwise import cosine_similarity\n"
      ],
      "metadata": {
        "id": "A70hUI7MrxPe"
      },
      "execution_count": 17,
      "outputs": []
    },
    {
      "cell_type": "code",
      "source": [
        "for i in range(len(sentences)):\n",
        "  for j in range(len(sentences)):\n",
        "\n",
        "    if i != j:\n",
        "      sim_mat[i][j] = cosine_similarity(sentence_vectors[i].reshape(1,100), sentence_vectors[j].reshape(1,100))[0,0]"
      ],
      "metadata": {
        "id": "F4suKjYWry0O"
      },
      "execution_count": 18,
      "outputs": []
    },
    {
      "cell_type": "code",
      "source": [],
      "metadata": {
        "id": "85qZu8C7o9WJ"
      },
      "execution_count": null,
      "outputs": []
    },
    {
      "cell_type": "code",
      "source": [
        "import networkx as nx\n",
        "\n",
        "#Ranking lines using PageRank Algorithm\n",
        "nx_graph = nx.from_numpy_array(sim_mat)\n",
        "scores = nx.pagerank(nx_graph)"
      ],
      "metadata": {
        "id": "n0tCkLTCr3ME"
      },
      "execution_count": 19,
      "outputs": []
    },
    {
      "cell_type": "code",
      "source": [
        "ranked_sentences = sorted(((scores[i],s) for i,s in enumerate(sentences)), reverse=True)"
      ],
      "metadata": {
        "id": "yPlbWpQqomjD"
      },
      "execution_count": 20,
      "outputs": []
    },
    {
      "cell_type": "code",
      "source": [
        "# Specify number of sentences to form the summary\n",
        "sn = int(len(sentences)*(0.7))\n",
        "# Generate summary\n",
        "for i in range(sn):\n",
        "  print(ranked_sentences[i][1])"
      ],
      "metadata": {
        "colab": {
          "base_uri": "https://localhost:8080/"
        },
        "id": "cRcx3r009oPE",
        "outputId": "b53f03a8-5c71-448b-8d6c-d65372662eec"
      },
      "execution_count": 21,
      "outputs": [
        {
          "output_type": "stream",
          "name": "stdout",
          "text": [
            "After reaching his hotel in the city, RM revealed that his stay would be for four days and added that he would step out for dinner.\n",
            "Recalling his previous visit to Lucerne, RM added, \"I remember the day of crossing that bridge and buying souvenirs.\"\n",
            "He later took a walk through the city.\n",
            "As he walked around, RM showed a chair to his fans and said, \"I have breaking news for you guys.\n",
            "He also spoke about the art pieces as he viewed them.\n",
            "RM attended Art Basel and explained on camera the details of the art fair.\n",
            "It's much quieter than I expected and feels like a rural town.\n",
            "If you see this Chris, give me a call.\n",
            "Showing the pattern of a ping pong table, RM said, \"The table looks like our (BTS) symbol.\"\n",
            "RM's travel in Switzerland ended with a visit to the Museum Tinguely.\n",
            "Speaking to the camera, RM said, \"I rode the SSB train to Lucerne, rode a boat, rode the mountain train, walked down the track road, rode the cable cars, and now I'm on a boat planning to go ride the SSB again.\"\n",
            "RM's vlog ended with him enjoying a Korean meal and then heading back to Seoul.\n",
            "He was also reminded of Bon Voyage, a reality show featuring BTS members RM, Jin, Suga, J-Hope, Jimin, V and Jungkook.\n",
            "On his third day, RM visited the Kunstmuseum Basel, the Vitra Design Museum and the gallery.\n",
            "After that, RM took a tram to visit the Foundation Beyeler, a museum.\n",
            "Coldplay's Chris Martin made a chair and it's displayed in the Vitra Design Museum.\n",
            "Next, RM flew to Paris to attend the Pinault Collection and to visit Musee d'Orsay.\n"
          ]
        }
      ]
    },
    {
      "cell_type": "code",
      "source": [
        "def Summary(text,summary_text_percent):\n",
        "  sentences = sent_tokenize(text)\n",
        "  # remove punctuations, numbers and special characters\n",
        "  clean_sentences = pd.Series(sentences).str.replace(\"[^a-zA-Z]\", \" \")\n",
        "\n",
        "  # make alphabets lowercase\n",
        "  clean_sentences = [s.lower() for s in clean_sentences]\n",
        "\n",
        "  stop_words = stopwords.words('english')\n",
        "\n",
        "  # remove stopwords from the sentences\n",
        "  clean_sentences = [remove_stopwords(r.split()) for r in clean_sentences]\n",
        "\n",
        "  #Making sentences vectors\n",
        "  sentence_vectors = []\n",
        "  for i in clean_sentences:\n",
        "    if len(i) != 0:\n",
        "      v = sum([word_embeddings.get(w, np.zeros((100,))) for w in i.split()])/(len(i.split())+0.001)\n",
        "    else:\n",
        "      v = np.zeros((100,))\n",
        "    sentence_vectors.append(v)\n",
        "\n",
        "  # similarity matrix\n",
        "  sim_mat = np.zeros([len(sentences), len(sentences)])\n",
        "  for i in range(len(sentences)):\n",
        "    for j in range(len(sentences)):\n",
        "      if i != j:\n",
        "        sim_mat[i][j] = cosine_similarity(sentence_vectors[i].reshape(1,100), sentence_vectors[j].reshape(1,100))[0,0]\n",
        "  \n",
        "  \n",
        "  #Ranking lines using PageRank Algorithm\n",
        "  nx_graph = nx.from_numpy_array(sim_mat)\n",
        "  scores = nx.pagerank(nx_graph)\n",
        "  ranked_sentences = sorted(((scores[i],s) for i,s in enumerate(sentences)), reverse=True)\n",
        "  \n",
        "  # Specify number of sentences to form the summary\n",
        "  sn = int(len(sentences)*(summary_text_percent))\n",
        "  \n",
        "  # Generate summary\n",
        "  summary_text = ''\n",
        "  for i in range(sn):\n",
        "    summary_text+=ranked_sentences[i][1]\n",
        "  removed_lines=''\n",
        "  for i in range(sn,len(ranked_sentences)):\n",
        "    removed_lines+=ranked_sentences[i][1]\n",
        "\n",
        "  return [text,summary_text,removed_lines]"
      ],
      "metadata": {
        "id": "hMdZ14rt9qrT"
      },
      "execution_count": 26,
      "outputs": []
    },
    {
      "cell_type": "code",
      "source": [
        "#Example\n",
        "\n",
        "text1 = df['content'][1]\n",
        "[text1,summary_text,removed_lines] = Summary(text1,0.6)"
      ],
      "metadata": {
        "colab": {
          "base_uri": "https://localhost:8080/"
        },
        "id": "_yIq2h1JC1Fi",
        "outputId": "d7bdb390-d040-4bfc-8c1d-b4bd8190a6ff"
      },
      "execution_count": 27,
      "outputs": [
        {
          "output_type": "stream",
          "name": "stderr",
          "text": [
            "<ipython-input-26-57ecf5c0f59c>:4: FutureWarning: The default value of regex will change from True to False in a future version.\n",
            "  clean_sentences = pd.Series(sentences).str.replace(\"[^a-zA-Z]\", \" \")\n"
          ]
        }
      ]
    },
    {
      "cell_type": "code",
      "source": [
        "print(summary_text)"
      ],
      "metadata": {
        "colab": {
          "base_uri": "https://localhost:8080/"
        },
        "id": "FgkJL255Juxt",
        "outputId": "b84eab8f-394a-4c36-ac6c-8d8c72ae1eca"
      },
      "execution_count": 28,
      "outputs": [
        {
          "output_type": "stream",
          "name": "stdout",
          "text": [
            "\"To be honest, one decision that I had often thought about was my choice to become a part of a boy band.I often wondered whether I made the right decision by joining a boy band.I often think about what it would have been like if I continued my studies or became something other than a musician.\"At the time, BTS, was treated like a complete outsider in the Korean hip-hop community.I was constantly thinking about how I would be able to overcome that perception and how to define music or hip-hop,â he added.Earlier this month, RM released his first full-length solo album Indigo.In my journey with BTS, I drifted further and further away from that world and was tormented by the thought that the people that I liked â and the people who enjoyed the same music as I â did not have any love for me.In the late 2000s, musicians like Zico, Changmo, and Giriboy were the people that I started out with.Three years later, he released his second mixtape, Mono.That film visualized many of the ideas that Iâve had, such as the idea about multiple versions of myself existing based on small choices I made.\n"
          ]
        }
      ]
    },
    {
      "cell_type": "code",
      "source": [
        "print(removed_lines)"
      ],
      "metadata": {
        "colab": {
          "base_uri": "https://localhost:8080/"
        },
        "id": "f8G4YJp5Jy92",
        "outputId": "14a4722a-1068-4f66-b376-c993ad016d43"
      },
      "execution_count": 29,
      "outputs": [
        {
          "output_type": "stream",
          "name": "stdout",
          "text": [
            "The group released their debut single album 2 Cool 4 Skool on June 12, 2013.Recently, I watched Everything Everywhere All At Once.In an interview with Hypebeast, RM said, \"This is the most difficult question to answer truthfully.RM aka Kim Namjoon was the first member to join BTS.RM released his first solo mixtape in 2015.Apart from RM, BTS also features Jin, Suga, J-Hope, Jimin, V, and Jungkook.RM has collaborated with artists such as Wale, Younha, Warren G, Gaeko, Krizz Kaliko, MFBTY, Fall Out Boy, Primary, Lil Nas X, Erykah Badu, and Anderson .Paak.That stressed me out.\n"
          ]
        }
      ]
    },
    {
      "cell_type": "code",
      "source": [],
      "metadata": {
        "id": "jP7WlyUTKJDH"
      },
      "execution_count": null,
      "outputs": []
    }
  ]
}